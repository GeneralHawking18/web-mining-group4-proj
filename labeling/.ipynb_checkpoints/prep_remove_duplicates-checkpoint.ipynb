{
 "cells": [
  {
   "cell_type": "markdown",
   "id": "c47e0d61",
   "metadata": {},
   "source": [
    "# Only run ONCE\n",
    "Context: I labeled 300 first lines and realized there are a lot of duplicate lines."
   ]
  },
  {
   "cell_type": "code",
   "execution_count": 5,
   "id": "a8d25dde",
   "metadata": {},
   "outputs": [],
   "source": [
    "import os\n",
    "import json"
   ]
  },
  {
   "cell_type": "code",
   "execution_count": 6,
   "id": "d4a76692",
   "metadata": {},
   "outputs": [],
   "source": [
    "# Đọc dữ liệu\n",
    "inp_file_name = \"terrorism.txt\"\n",
    "out_file_name = \"terrorism_removed_dup.txt\"\n",
    "\n",
    "with open(os.path.join(os.getcwd(), inp_file_name), \"r\", encoding=\"utf8\") as f:\n",
    "    f.read().split('\\n')"
   ]
  },
  {
   "cell_type": "code",
   "execution_count": 7,
   "id": "3eece87c",
   "metadata": {},
   "outputs": [
    {
     "data": {
      "text/plain": [
       "633"
      ]
     },
     "execution_count": 7,
     "metadata": {},
     "output_type": "execute_result"
    }
   ],
   "source": [
    "line_set = set(lines)\n",
    "len(line_set)"
   ]
  },
  {
   "cell_type": "code",
   "execution_count": 8,
   "id": "b145c5d9",
   "metadata": {},
   "outputs": [],
   "source": [
    "with open(os.path.join(os.getcwd(), out_file_name), \"w\", encoding=\"utf8\") as f:\n",
    "    f.write('\\n'.join(line_set))"
   ]
  }
 ],
 "metadata": {
  "kernelspec": {
   "display_name": "Python 3",
   "language": "python",
   "name": "python3"
  },
  "language_info": {
   "codemirror_mode": {
    "name": "ipython",
    "version": 3
   },
   "file_extension": ".py",
   "mimetype": "text/x-python",
   "name": "python",
   "nbconvert_exporter": "python",
   "pygments_lexer": "ipython3",
   "version": "3.8.8"
  }
 },
 "nbformat": 4,
 "nbformat_minor": 5
}
