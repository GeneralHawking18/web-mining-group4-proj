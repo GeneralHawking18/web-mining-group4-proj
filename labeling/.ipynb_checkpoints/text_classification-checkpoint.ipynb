{
 "cells": [
  {
   "cell_type": "code",
   "execution_count": 1,
   "metadata": {
    "id": "mbwqHle6NztB"
   },
   "outputs": [],
   "source": [
    "import os\n",
    "import json"
   ]
  },
  {
   "cell_type": "code",
   "execution_count": 2,
   "metadata": {
    "colab": {
     "base_uri": "https://localhost:8080/",
     "height": 235
    },
    "id": "KptB-rJqMMZV",
    "outputId": "5dcbb561-99f5-4b65-c928-6101d175ccd7"
   },
   "outputs": [
    {
     "name": "stdout",
     "output_type": "stream",
     "text": [
      "634\n"
     ]
    }
   ],
   "source": [
    "# Đọc dữ liệu\n",
    "inp_file_name = \"terrorism_removed_dup.txt\"\n",
    "out_file_name = \"terrorism.json\"\n",
    "\n",
    "with open(os.path.join(os.getcwd(), inp_file_name), \"r\", encoding=\"utf8\") as f:\n",
    "    lines = f.read().split('\\n')\n",
    "\n",
    "print(len(lines))"
   ]
  },
  {
   "cell_type": "code",
   "execution_count": 3,
   "metadata": {
    "id": "knvXQqJnW0IV"
   },
   "outputs": [],
   "source": [
    "# Mỗi batch gán thì lấy tầm 100 - 200 data  \n",
    "batch = lines[0:0]"
   ]
  },
  {
   "cell_type": "code",
   "execution_count": 4,
   "metadata": {
    "id": "ZZBKTEx-WbE1"
   },
   "outputs": [],
   "source": [
    "label_dict = {\n",
    "    0: \"neutral\",\n",
    "    1: \"insult\",\n",
    "    2: \"politics\",\n",
    "    3: \"psychology\",\n",
    "    4: \"religion\",\n",
    "    5: \"terrorism\"\n",
    "}"
   ]
  },
  {
   "cell_type": "code",
   "execution_count": 5,
   "metadata": {
    "id": "HVWO9Q-i6G7I"
   },
   "outputs": [
    {
     "name": "stdout",
     "output_type": "stream",
     "text": [
      "Loaded from file, #sentences labeled = 633\n"
     ]
    }
   ],
   "source": [
    "# FIXED: this cell can be run multiple times \n",
    "# check if it exists\n",
    "if 'tagged_dict' not in globals():\n",
    "    try:\n",
    "        with open(os.path.join(os.getcwd(), out_file_name), \"r\", encoding=\"utf8\") as f:\n",
    "            tagged_dict = json.load(f)\n",
    "        print(\"Loaded from file, #sentences labeled =\", len(tagged_dict))\n",
    "    except FileNotFoundError:\n",
    "        tagged_dict = {}\n",
    "        print('New dict initialized')\n",
    "else: \n",
    "    print('Dict already exists, #sentences labeled =', len(tagged_dict))"
   ]
  },
  {
   "cell_type": "code",
   "execution_count": 6,
   "metadata": {},
   "outputs": [
    {
     "name": "stdout",
     "output_type": "stream",
     "text": [
      "623 Examining Extremism: Lashkar-e-Taiba ['politics', 'religion', 'terrorism']\n"
     ]
    }
   ],
   "source": [
    "for i, (k, v) in enumerate(tagged_dict.items()):\n",
    "    if 'Lashkar-e-Taiba'.lower() in k.lower():\n",
    "        if 'religion' not in v:\n",
    "            v.insert(-1, 'religion')\n",
    "            print('fixed')\n",
    "        print(i, k, v)"
   ]
  },
  {
   "cell_type": "code",
   "execution_count": 7,
   "metadata": {
    "id": "FZyKNNEVNTXC"
   },
   "outputs": [],
   "source": [
    "# return True if label successfully\n",
    "def label_a_line(line_count):\n",
    "    try:\n",
    "        print(f\"{line_count} : {batch[line_count]}\")\n",
    "        line = batch[line_count]\n",
    "        tags = input(\"   Enter your tag: \")\n",
    "        val = list()\n",
    "        if len(str(tags)) >= 2:\n",
    "            for tag_count in range(len(str(tags))):\n",
    "                str_tags = str(tags)\n",
    "                val.append(label_dict[int(str_tags[tag_count])])\n",
    "            tagged_dict[line] = val\n",
    "        else:\n",
    "            tagged_dict[line] = list()\n",
    "            tagged_dict[line].append(label_dict[int(tags)])\n",
    "        print(f'    {tagged_dict[line]}')\n",
    "        return True\n",
    "    except KeyError:\n",
    "        return False"
   ]
  },
  {
   "cell_type": "code",
   "execution_count": 8,
   "metadata": {
    "id": "xaAl4z7vQw6d"
   },
   "outputs": [],
   "source": [
    "# Chạy cái này để gán nhãn, nhập số ở label_dict để gán, có thể nhập nhiều số liền nhau, ví dụ như 124\n",
    "for line_count in range(len(batch)):\n",
    "    while True:\n",
    "        if label_a_line(line_count):\n",
    "            break"
   ]
  },
  {
   "cell_type": "code",
   "execution_count": 9,
   "metadata": {
    "id": "rUYLgLUxYxCT"
   },
   "outputs": [],
   "source": [
    "# Chuyển dữ liệu về dạng json\n",
    "\n",
    "tagged_dict.pop('', None)  # remove empty string from dict (silently)\n",
    "tagged_json = json.dumps(tagged_dict)\n",
    "\n",
    "# Xuất file, vào Files ở cột bên trái để tải về\n",
    "with open(out_file_name, \"w\") as outfile:\n",
    "    outfile.write(tagged_json)"
   ]
  },
  {
   "cell_type": "code",
   "execution_count": null,
   "metadata": {},
   "outputs": [],
   "source": []
  }
 ],
 "metadata": {
  "colab": {
   "provenance": []
  },
  "gpuClass": "standard",
  "kernelspec": {
   "display_name": "Python 3",
   "language": "python",
   "name": "python3"
  },
  "language_info": {
   "codemirror_mode": {
    "name": "ipython",
    "version": 3
   },
   "file_extension": ".py",
   "mimetype": "text/x-python",
   "name": "python",
   "nbconvert_exporter": "python",
   "pygments_lexer": "ipython3",
   "version": "3.8.8"
  },
  "vscode": {
   "interpreter": {
    "hash": "11938c6bc6919ae2720b4d5011047913343b08a43b18698fd82dedb0d4417594"
   }
  }
 },
 "nbformat": 4,
 "nbformat_minor": 1
}
