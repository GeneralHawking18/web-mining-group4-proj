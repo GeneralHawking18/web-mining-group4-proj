{
 "cells": [
  {
   "cell_type": "markdown",
   "id": "c47e0d61",
   "metadata": {},
   "source": [
    "# Only run ONCE\n",
    "Context: I labeled 300 first lines and realized there are a lot of duplicate lines."
   ]
  },
  {
   "cell_type": "code",
   "execution_count": 1,
   "id": "a8d25dde",
   "metadata": {},
   "outputs": [],
   "source": [
    "import os\n",
    "import json"
   ]
  },
  {
   "cell_type": "code",
   "execution_count": 2,
   "id": "d4a76692",
   "metadata": {},
   "outputs": [],
   "source": [
    "# Đọc dữ liệu\n",
    "inp_file_name = \"terrorism.txt\"\n",
    "out_file_name = \"terrorism_removed_dup.txt\"\n",
    "\n",
    "with open(os.path.join(os.getcwd(), inp_file_name), \"r\", encoding=\"utf8\") as f:\n",
    "    lines = f.read().split('\\n')"
   ]
  },
  {
   "cell_type": "code",
   "execution_count": 3,
   "id": "3eece87c",
   "metadata": {},
   "outputs": [
    {
     "data": {
      "text/plain": [
       "634"
      ]
     },
     "execution_count": 3,
     "metadata": {},
     "output_type": "execute_result"
    }
   ],
   "source": [
    "new_lines = list(dict.fromkeys(lines))\n",
    "len(new_lines)"
   ]
  },
  {
   "cell_type": "code",
   "execution_count": 4,
   "id": "b145c5d9",
   "metadata": {},
   "outputs": [],
   "source": [
    "with open(os.path.join(os.getcwd(), out_file_name), \"w\", encoding=\"utf8\") as f:\n",
    "    f.write('\\n'.join(new_lines))"
   ]
  }
 ],
 "metadata": {
  "kernelspec": {
   "display_name": "deeplearning",
   "language": "python",
   "name": "python3"
  },
  "language_info": {
   "codemirror_mode": {
    "name": "ipython",
    "version": 3
   },
   "file_extension": ".py",
   "mimetype": "text/x-python",
   "name": "python",
   "nbconvert_exporter": "python",
   "pygments_lexer": "ipython3",
   "version": "3.9.12 (main, Jun  1 2022, 11:38:51) \n[GCC 7.5.0]"
  },
  "vscode": {
   "interpreter": {
    "hash": "73fdcbcaa6b22d852c0f9bd9783ab6b1b1c25c52a0a8da76beae07513436cb85"
   }
  }
 },
 "nbformat": 4,
 "nbformat_minor": 5
}
