{
  "nbformat": 4,
  "nbformat_minor": 0,
  "metadata": {
    "colab": {
      "provenance": []
    },
    "kernelspec": {
      "name": "python3",
      "display_name": "Python 3"
    },
    "language_info": {
      "name": "python"
    }
  },
  "cells": [
    {
      "cell_type": "markdown",
      "source": [
        "#Mô hình TFIDF kết hợp Random Forest"
      ],
      "metadata": {
        "id": "gX5btIvY2CnY"
      }
    },
    {
      "cell_type": "markdown",
      "source": [
        "##Khai báo thư viện\n",
        "Trong bài này, chúng ta sẽ sử dụng trực tiếp mô hình TFIDF và Random Forest của thư viện sklearn. Bên cạnh đó, thư viện nltk được sử dụng để tiền xử lí dữ liệu dạng text thành dạng chuẩn trước khi cho vào để vector hóa qua mô hình TFIDF."
      ],
      "metadata": {
        "id": "3KzLhhkj2Mj4"
      }
    },
    {
      "cell_type": "code",
      "execution_count": 16,
      "metadata": {
        "colab": {
          "base_uri": "https://localhost:8080/"
        },
        "id": "qGmU7sQR0i3i",
        "outputId": "259153c6-7dfe-4a0e-d7ad-0184969c1275"
      },
      "outputs": [
        {
          "output_type": "stream",
          "name": "stderr",
          "text": [
            "[nltk_data] Downloading package stopwords to /root/nltk_data...\n",
            "[nltk_data]   Package stopwords is already up-to-date!\n",
            "[nltk_data] Downloading package wordnet to /root/nltk_data...\n",
            "[nltk_data]   Package wordnet is already up-to-date!\n",
            "[nltk_data] Downloading package omw-1.4 to /root/nltk_data...\n",
            "[nltk_data]   Package omw-1.4 is already up-to-date!\n"
          ]
        }
      ],
      "source": [
        "import json\n",
        "import numpy as np\n",
        "import pandas as pd\n",
        "from sklearn.feature_extraction.text import TfidfVectorizer\n",
        "from sklearn.ensemble import RandomForestClassifier\n",
        "from sklearn.metrics import classification_report, confusion_matrix, ConfusionMatrixDisplay, f1_score\n",
        "import matplotlib.pyplot as plt\n",
        "import re\n",
        "import string\n",
        "\n",
        "import nltk\n",
        "nltk.download('stopwords')\n",
        "nltk.download('wordnet')\n",
        "nltk.download('omw-1.4')\n",
        "from nltk.corpus import stopwords\n",
        "from nltk.stem import WordNetLemmatizer"
      ]
    },
    {
      "cell_type": "markdown",
      "source": [
        "##Tiền xử lý dữ liệu dạng text\n",
        "Để xử lí dữ liệu dạng text, chúng ta cần trải qua những bước sau: \n",
        "+ chuyển hết kí tự viết hoa thành viết thường\n",
        "+ loại bỏ hết những kí tự ngoại trừ các kí tự từ a-z, A-Z, 0-9, !,...\n",
        "+ loại bỏ hết các loại dấu trong text thành kí tự rỗng \n",
        "+ loại bỏ hết các stop word (stop word là những từ xuất hiện nhiều nhưng không đóng vai trò quan trọng về ý nghĩa với đoạn text)\n",
        "+ đưa tất cả các từ về một định dạng (lemmatizer)"
      ],
      "metadata": {
        "id": "CpK9iSr63QCv"
      }
    },
    {
      "cell_type": "code",
      "source": [
        "stop_words = stopwords.words('english')\n",
        "sw = stopwords.words('english')\n",
        "lemmatizer = WordNetLemmatizer()\n",
        "\n",
        "def clean_text(text):\n",
        "    text = text.lower()\n",
        "    text = re.sub(r\"[^a-zA-Z?.!,¿0-9]+\", \" \", text)\n",
        "    punctuations = '@#!?+&*[]-%.:/();$=><|{}^,_' + \"'`\"\n",
        "    for p in punctuations:\n",
        "        text = text.replace(p,'')\n",
        "    text = [word.lower() for word in text.split() if word.lower() not in sw]\n",
        "    text = [lemmatizer.lemmatize(word) for word in text]\n",
        "    text = \" \".join(text)\n",
        "    return text"
      ],
      "metadata": {
        "id": "lREUDwLs0yKg"
      },
      "execution_count": 17,
      "outputs": []
    },
    {
      "cell_type": "markdown",
      "source": [
        "##Xây dựng mô hình(TFIDF + Random Forest)\n",
        "Chu trình thực hiện model:\n",
        "Tiền xử lý -> Vector hóa(sử dụng mô hình TFIDF) -> Sử dụng mô hình RF -> In ra báo cáo\n",
        "+ Tiền xử lý: Sử dụng hàm tiền xử lý đã được triển khai ở phần trên\n",
        "+ Vector hóa: Sử dụng mô hình TFIDF để chuyển file dạng text sang dataset dạng vector.\n",
        "+ Sử dụng mô hình RF.\n",
        "+ In ra báo cáo: Chúng ta sẽ sử dụng method classification_report của sklearn để in ra f1_score, acc của từng class. Sau đó sẽ in ra ma trận nhầm lẫn dựa vào kết quả dự đoán và kết quả thực tế.\n"
      ],
      "metadata": {
        "id": "TK5fkNPv4Kig"
      }
    },
    {
      "cell_type": "code",
      "source": [
        "class Model(object):\n",
        "    def __init__(self):\n",
        "        f = open('sensitive_train.json')\n",
        "        self.data_train = json.load(f)\n",
        "        f.close()\n",
        "        f = open('sensitive_test.json')\n",
        "        self.data_test = json.load(f)\n",
        "        f.close()\n",
        "        self.train = []\n",
        "        self.label_train = []\n",
        "        self.test = []\n",
        "        self.label_test = []\n",
        "        self.feature_names = []\n",
        "        self.predict = None\n",
        "        \n",
        "    def PreProcessing(self):\n",
        "        for data in self.data_train:\n",
        "            self.train.append(clean_text(data['text']))\n",
        "            self.label_train.append(data['label'])\n",
        "        for data in self.data_test:\n",
        "            self.test.append(clean_text(data['text']))\n",
        "            self.label_test.append(data['label'])\n",
        "        \n",
        "    def Vectorizer(self):\n",
        "        self.tfidf_vectorizer = TfidfVectorizer(smooth_idf = False)\n",
        "        self.tfidf_train_vectors = self.tfidf_vectorizer.fit_transform(self.train)\n",
        "        self.tfidf_test_vectors = self.tfidf_vectorizer.transform(self.test)\n",
        "        self.feature_names = self.tfidf_vectorizer.get_feature_names_out()\n",
        "        \n",
        "    def Run(self):\n",
        "        self.PreProcessing()\n",
        "        self.Vectorizer()\n",
        "        self.classifier = RandomForestClassifier()\n",
        "        self.classifier.fit(self.tfidf_train_vectors, self.label_train)\n",
        "        self.predict = self.classifier.predict(self.tfidf_test_vectors)\n",
        "        print(classification_report(self.label_test, self.predict))\n",
        "        acc = 0\n",
        "        for i in range(len(self.label_test)):\n",
        "            if self.label_test[i] == self.predict[i]:\n",
        "                acc += 1\n",
        "        cm = confusion_matrix(self.label_test, self.predict)\n",
        "        _display = ConfusionMatrixDisplay(confusion_matrix = cm, display_labels = self.classifier.classes_)\n",
        "        _display.plot()\n",
        "        plt.show()"
      ],
      "metadata": {
        "id": "icHboNrl1EJH"
      },
      "execution_count": 18,
      "outputs": []
    },
    {
      "cell_type": "markdown",
      "source": [
        "##Chạy chương trình"
      ],
      "metadata": {
        "id": "jWaPcRjK4Zbe"
      }
    },
    {
      "cell_type": "code",
      "source": [
        "t = Model()\n",
        "t.Run()"
      ],
      "metadata": {
        "colab": {
          "base_uri": "https://localhost:8080/",
          "height": 487
        },
        "id": "EIa021j41Hbv",
        "outputId": "0d523ba4-bf61-4a91-99e9-f635a1c99a42"
      },
      "execution_count": 19,
      "outputs": [
        {
          "output_type": "stream",
          "name": "stdout",
          "text": [
            "              precision    recall  f1-score   support\n",
            "\n",
            "      insult       0.96      0.65      0.77       205\n",
            "     neutral       0.51      0.86      0.64       270\n",
            "    politics       0.70      0.42      0.53       174\n",
            "    religion       0.94      0.67      0.78       159\n",
            "   terrorism       0.84      0.82      0.83       211\n",
            "\n",
            "    accuracy                           0.70      1019\n",
            "   macro avg       0.79      0.68      0.71      1019\n",
            "weighted avg       0.77      0.70      0.71      1019\n",
            "\n"
          ]
        },
        {
          "output_type": "display_data",
          "data": {
            "text/plain": [
              "<Figure size 432x288 with 2 Axes>"
            ],
            "image/png": "[encoded data removed]"
          },
          "metadata": {
            "needs_background": "light"
          }
        }
      ]
    }
  ]
}