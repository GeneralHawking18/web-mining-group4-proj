{
 "cells": [
  {
   "cell_type": "code",
   "execution_count": 1,
   "id": "0bed9922",
   "metadata": {
    "_cell_guid": "b1076dfc-b9ad-4769-8c92-a6c4dae69d19",
    "_uuid": "8f2839f25d086af736a60e9eeb907d3b93b6e0e5",
    "execution": {
     "iopub.execute_input": "2023-02-08T07:56:10.634105Z",
     "iopub.status.busy": "2023-02-08T07:56:10.632749Z",
     "iopub.status.idle": "2023-02-08T07:56:13.201057Z",
     "shell.execute_reply": "2023-02-08T07:56:13.199991Z"
    },
    "papermill": {
     "duration": 2.577477,
     "end_time": "2023-02-08T07:56:13.203591",
     "exception": false,
     "start_time": "2023-02-08T07:56:10.626114",
     "status": "completed"
    },
    "tags": []
   },
   "outputs": [],
   "source": [
    "import pickle as pkl\n",
    "import pprint\n",
    "\n",
    "import numpy as np\n",
    "import pandas as pd\n",
    "\n",
    "from sklearn import preprocessing, metrics\n",
    "\n",
    "import matplotlib.pyplot as plt\n",
    "\n",
    "import torch\n",
    "import torchtext\n",
    "from torchtext.models import RobertaClassificationHead, XLMR_BASE_ENCODER"
   ]
  },
  {
   "cell_type": "code",
   "execution_count": 2,
   "id": "6aacad62",
   "metadata": {
    "execution": {
     "iopub.execute_input": "2023-02-08T07:56:13.214733Z",
     "iopub.status.busy": "2023-02-08T07:56:13.212854Z",
     "iopub.status.idle": "2023-02-08T07:56:13.232563Z",
     "shell.execute_reply": "2023-02-08T07:56:13.231472Z"
    },
    "papermill": {
     "duration": 0.027386,
     "end_time": "2023-02-08T07:56:13.235304",
     "exception": false,
     "start_time": "2023-02-08T07:56:13.207918",
     "status": "completed"
    },
    "tags": []
   },
   "outputs": [
    {
     "name": "stdout",
     "output_type": "stream",
     "text": [
      "{'avg_training_losses': [0.10459195822477341,\n",
      "                         0.09977320581674576,\n",
      "                         0.10270342230796814,\n",
      "                         0.09986265748739243,\n",
      "                         0.10010701417922974,\n",
      "                         0.09872741997241974,\n",
      "                         0.10244099795818329,\n",
      "                         0.1013910248875618,\n",
      "                         0.10079371929168701,\n",
      "                         0.1007085070014,\n",
      "                         0.09792941808700562,\n",
      "                         0.1004740372300148,\n",
      "                         0.10012243688106537,\n",
      "                         0.10080665349960327,\n",
      "                         0.10126035660505295,\n",
      "                         0.09664689749479294,\n",
      "                         0.10008326172828674,\n",
      "                         0.09688824415206909,\n",
      "                         0.09521947056055069,\n",
      "                         0.10236003249883652,\n",
      "                         0.1013568714261055,\n",
      "                         0.09645521640777588,\n",
      "                         0.10218419879674911,\n",
      "                         0.09622662514448166,\n",
      "                         0.09993624687194824,\n",
      "                         0.09572891145944595,\n",
      "                         0.09123217314481735,\n",
      "                         0.09968573600053787,\n",
      "                         0.10245410352945328,\n",
      "                         0.0924530029296875,\n",
      "                         0.10043521970510483,\n",
      "                         0.09476720541715622,\n",
      "                         0.09110516309738159,\n",
      "                         0.09357426315546036,\n",
      "                         0.09600993245840073,\n",
      "                         0.10357289761304855,\n",
      "                         0.09840677678585052,\n",
      "                         0.10208262503147125,\n",
      "                         0.10067854821681976,\n",
      "                         0.09452589601278305,\n",
      "                         0.09395218640565872,\n",
      "                         0.09997688978910446,\n",
      "                         0.0986538678407669,\n",
      "                         0.10186947882175446,\n",
      "                         0.10249899327754974,\n",
      "                         0.09201349318027496,\n",
      "                         0.09813566505908966,\n",
      "                         0.10482935607433319,\n",
      "                         0.09769411385059357,\n",
      "                         0.0954219326376915,\n",
      "                         0.0882222056388855,\n",
      "                         0.0968640074133873,\n",
      "                         0.10043952614068985,\n",
      "                         0.10094607621431351,\n",
      "                         0.09097125381231308,\n",
      "                         0.09961367398500443,\n",
      "                         0.0942387506365776,\n",
      "                         0.09041458368301392,\n",
      "                         0.09611231833696365,\n",
      "                         0.09837904572486877,\n",
      "                         0.09543627500534058,\n",
      "                         0.09879263490438461,\n",
      "                         0.09210781753063202,\n",
      "                         0.0948086678981781,\n",
      "                         0.09772191196680069,\n",
      "                         0.09244836866855621,\n",
      "                         0.09447314590215683,\n",
      "                         0.09837990254163742,\n",
      "                         0.09672743827104568,\n",
      "                         0.09500323235988617,\n",
      "                         0.09035902470350266,\n",
      "                         0.09587961435317993,\n",
      "                         0.09639216214418411,\n",
      "                         0.09952132403850555,\n",
      "                         0.09848877787590027,\n",
      "                         0.09474696964025497,\n",
      "                         0.09064282476902008,\n",
      "                         0.09682729095220566,\n",
      "                         0.08126174658536911,\n",
      "                         0.10231862217187881,\n",
      "                         0.09598265588283539,\n",
      "                         0.090901680290699,\n",
      "                         0.0995519608259201,\n",
      "                         0.09233447164297104,\n",
      "                         0.08437982201576233,\n",
      "                         0.10691181570291519,\n",
      "                         0.10091015696525574,\n",
      "                         0.094666987657547,\n",
      "                         0.0867982804775238,\n",
      "                         0.08309050649404526,\n",
      "                         0.08708451688289642,\n",
      "                         0.10026399791240692,\n",
      "                         0.08303044736385345,\n",
      "                         0.09432923793792725,\n",
      "                         0.10575664043426514,\n",
      "                         0.11898125211397807],\n",
      " 'classification_report': {'0': {'f1-score': 0.0,\n",
      "                                 'precision': 0.0,\n",
      "                                 'recall': 0.0,\n",
      "                                 'support': 205},\n",
      "                           '1': {'f1-score': 0.49028077753779703,\n",
      "                                 'precision': 0.34603658536585363,\n",
      "                                 'recall': 0.8407407407407408,\n",
      "                                 'support': 270},\n",
      "                           '2': {'f1-score': 0.0,\n",
      "                                 'precision': 0.0,\n",
      "                                 'recall': 0.0,\n",
      "                                 'support': 174},\n",
      "                           '3': {'f1-score': 0.0,\n",
      "                                 'precision': 0.0,\n",
      "                                 'recall': 0.0,\n",
      "                                 'support': 159},\n",
      "                           '4': {'f1-score': 0.7142857142857142,\n",
      "                                 'precision': 0.5647382920110193,\n",
      "                                 'recall': 0.9715639810426541,\n",
      "                                 'support': 211},\n",
      "                           'accuracy': 0.4239450441609421,\n",
      "                           'macro avg': {'f1-score': 0.24091329836470227,\n",
      "                                         'precision': 0.18215497547537457,\n",
      "                                         'recall': 0.36246094435667897,\n",
      "                                         'support': 1019},\n",
      "                           'weighted avg': {'f1-score': 0.2778116738464091,\n",
      "                                            'precision': 0.20862576806977973,\n",
      "                                            'recall': 0.4239450441609421,\n",
      "                                            'support': 1019}},\n",
      " 'confusion_matrix': array([[  0, 188,   0,   0,  17],\n",
      "       [  0, 227,   0,   0,  43],\n",
      "       [  0,  96,   0,   0,  78],\n",
      "       [  0, 139,   0,   0,  20],\n",
      "       [  0,   6,   0,   0, 205]]),\n",
      " 'counter': 1019,\n",
      " 'loss': 0.09158156921865895,\n",
      " 'total_loss': 93.32161903381348}\n"
     ]
    }
   ],
   "source": [
    "with open('/kaggle/input/ds-official-models-500/log_0.pkl', 'rb') as f:\n",
    "    pprint.pprint(pkl.load(f))"
   ]
  },
  {
   "cell_type": "code",
   "execution_count": 3,
   "id": "889e35eb",
   "metadata": {
    "execution": {
     "iopub.execute_input": "2023-02-08T07:56:13.245732Z",
     "iopub.status.busy": "2023-02-08T07:56:13.244649Z",
     "iopub.status.idle": "2023-02-08T07:56:14.905341Z",
     "shell.execute_reply": "2023-02-08T07:56:14.904242Z"
    },
    "papermill": {
     "duration": 1.66837,
     "end_time": "2023-02-08T07:56:14.907993",
     "exception": false,
     "start_time": "2023-02-08T07:56:13.239623",
     "status": "completed"
    },
    "tags": []
   },
   "outputs": [],
   "source": [
    "means_avg_training_losses = list()\n",
    "accuracies = list()\n",
    "macro_f1_scores = list()\n",
    "weighted_f1_scores = list()\n",
    "\n",
    "for i in range(500):\n",
    "    with open(f'/kaggle/input/ds-official-models-500/log_{i}.pkl', 'rb') as f:\n",
    "        log_dict = pkl.load(f)\n",
    "        means_avg_training_losses.append(np.mean(log_dict['avg_training_losses']))\n",
    "        accuracies.append(log_dict['classification_report']['accuracy'])\n",
    "        macro_f1_scores.append(log_dict['classification_report']['macro avg']['f1-score'])\n",
    "        weighted_f1_scores.append(log_dict['classification_report']['weighted avg']['f1-score'])"
   ]
  },
  {
   "cell_type": "code",
   "execution_count": 4,
   "id": "830036b2",
   "metadata": {
    "execution": {
     "iopub.execute_input": "2023-02-08T07:56:14.917324Z",
     "iopub.status.busy": "2023-02-08T07:56:14.917015Z",
     "iopub.status.idle": "2023-02-08T07:56:15.347190Z",
     "shell.execute_reply": "2023-02-08T07:56:15.346239Z"
    },
    "papermill": {
     "duration": 0.437229,
     "end_time": "2023-02-08T07:56:15.349400",
     "exception": false,
     "start_time": "2023-02-08T07:56:14.912171",
     "status": "completed"
    },
    "tags": []
   },
   "outputs": [
    {
     "data": {
      "image/png": "[encoded data removed]",
      "text/plain": [
       "<Figure size 432x288 with 1 Axes>"
      ]
     },
     "metadata": {
      "needs_background": "light"
     },
     "output_type": "display_data"
    }
   ],
   "source": [
    "plt.plot(means_avg_training_losses)\n",
    "plt.xlabel('Epoch')\n",
    "plt.ylabel('Average training loss')\n",
    "plt.legend()\n",
    "plt.savefig('avg training loss.png', dpi=200)"
   ]
  },
  {
   "cell_type": "code",
   "execution_count": 5,
   "id": "987f5a23",
   "metadata": {
    "execution": {
     "iopub.execute_input": "2023-02-08T07:56:15.359545Z",
     "iopub.status.busy": "2023-02-08T07:56:15.359194Z",
     "iopub.status.idle": "2023-02-08T07:56:15.760481Z",
     "shell.execute_reply": "2023-02-08T07:56:15.759298Z"
    },
    "papermill": {
     "duration": 0.40881,
     "end_time": "2023-02-08T07:56:15.762771",
     "exception": false,
     "start_time": "2023-02-08T07:56:15.353961",
     "status": "completed"
    },
    "tags": []
   },
   "outputs": [
    {
     "data": {
      "image/png": "[encoded data removed]",
      "text/plain": [
       "<Figure size 432x288 with 1 Axes>"
      ]
     },
     "metadata": {
      "needs_background": "light"
     },
     "output_type": "display_data"
    }
   ],
   "source": [
    "plt.plot(accuracies)\n",
    "plt.xlabel('Epoch')\n",
    "plt.ylabel('Test accuracy')\n",
    "plt.legend()\n",
    "plt.savefig('test accuracy.png', dpi=200)"
   ]
  },
  {
   "cell_type": "code",
   "execution_count": 6,
   "id": "29df95ba",
   "metadata": {
    "execution": {
     "iopub.execute_input": "2023-02-08T07:56:15.774181Z",
     "iopub.status.busy": "2023-02-08T07:56:15.773842Z",
     "iopub.status.idle": "2023-02-08T07:56:16.166481Z",
     "shell.execute_reply": "2023-02-08T07:56:16.165275Z"
    },
    "papermill": {
     "duration": 0.400968,
     "end_time": "2023-02-08T07:56:16.168720",
     "exception": false,
     "start_time": "2023-02-08T07:56:15.767752",
     "status": "completed"
    },
    "tags": []
   },
   "outputs": [
    {
     "data": {
      "image/png": "[encoded data removed]",
      "text/plain": [
       "<Figure size 432x288 with 1 Axes>"
      ]
     },
     "metadata": {
      "needs_background": "light"
     },
     "output_type": "display_data"
    }
   ],
   "source": [
    "plt.plot(macro_f1_scores)\n",
    "plt.xlabel('Epoch')\n",
    "plt.ylabel('Test macro average f1 score')\n",
    "plt.legend()\n",
    "plt.savefig('test macro avg f1.png', dpi=200)"
   ]
  },
  {
   "cell_type": "code",
   "execution_count": 7,
   "id": "9a3e2921",
   "metadata": {
    "execution": {
     "iopub.execute_input": "2023-02-08T07:56:16.180651Z",
     "iopub.status.busy": "2023-02-08T07:56:16.179994Z",
     "iopub.status.idle": "2023-02-08T07:56:16.571413Z",
     "shell.execute_reply": "2023-02-08T07:56:16.570348Z"
    },
    "papermill": {
     "duration": 0.399682,
     "end_time": "2023-02-08T07:56:16.573742",
     "exception": false,
     "start_time": "2023-02-08T07:56:16.174060",
     "status": "completed"
    },
    "tags": []
   },
   "outputs": [
    {
     "data": {
      "image/png": "[encoded data removed]",
      "text/plain": [
       "<Figure size 432x288 with 1 Axes>"
      ]
     },
     "metadata": {
      "needs_background": "light"
     },
     "output_type": "display_data"
    }
   ],
   "source": [
    "plt.plot(weighted_f1_scores)\n",
    "plt.xlabel('Epoch')\n",
    "plt.ylabel('Test weighted average f1 score')\n",
    "plt.legend()\n",
    "plt.savefig('test weighted avg f1.png', dpi=200)"
   ]
  },
  {
   "cell_type": "code",
   "execution_count": 8,
   "id": "507c4a77",
   "metadata": {
    "execution": {
     "iopub.execute_input": "2023-02-08T07:56:16.586474Z",
     "iopub.status.busy": "2023-02-08T07:56:16.585624Z",
     "iopub.status.idle": "2023-02-08T07:56:16.593145Z",
     "shell.execute_reply": "2023-02-08T07:56:16.592252Z"
    },
    "papermill": {
     "duration": 0.015898,
     "end_time": "2023-02-08T07:56:16.595124",
     "exception": false,
     "start_time": "2023-02-08T07:56:16.579226",
     "status": "completed"
    },
    "tags": []
   },
   "outputs": [
    {
     "data": {
      "text/plain": [
       "['insult', 'neutral', 'politics', 'religion', 'terrorism']"
      ]
     },
     "execution_count": 8,
     "metadata": {},
     "output_type": "execute_result"
    }
   ],
   "source": [
    "label_map = {\n",
    "    0: 'insult',\n",
    "    1: 'neutral',\n",
    "    2: 'politics',\n",
    "    3: 'religion',\n",
    "    4: 'terrorism'\n",
    "}\n",
    "\n",
    "label_list = list(label_map[i] for i in range(5))\n",
    "label_list"
   ]
  },
  {
   "cell_type": "code",
   "execution_count": 9,
   "id": "d4dcaa63",
   "metadata": {
    "execution": {
     "iopub.execute_input": "2023-02-08T07:56:16.608517Z",
     "iopub.status.busy": "2023-02-08T07:56:16.606934Z",
     "iopub.status.idle": "2023-02-08T07:56:16.615886Z",
     "shell.execute_reply": "2023-02-08T07:56:16.614673Z"
    },
    "papermill": {
     "duration": 0.0185,
     "end_time": "2023-02-08T07:56:16.619084",
     "exception": false,
     "start_time": "2023-02-08T07:56:16.600584",
     "status": "completed"
    },
    "tags": []
   },
   "outputs": [
    {
     "name": "stdout",
     "output_type": "stream",
     "text": [
      "{'max_accuracy': 0.7674190382728164,\n",
      " 'max_accuracy_index': 7,\n",
      " 'max_macro_f1': 0.7722383172008185,\n",
      " 'max_macro_f1_index': 319,\n",
      " 'max_weighted_f1': 0.7653015921461614,\n",
      " 'max_weighted_f1_index': 160}\n"
     ]
    }
   ],
   "source": [
    "with open('/kaggle/input/ds-official-models-500/log_post_train_info.pkl', 'rb') as f:\n",
    "    post_train_info = pkl.load(f)\n",
    "    pprint.pprint(post_train_info)"
   ]
  },
  {
   "cell_type": "code",
   "execution_count": 10,
   "id": "fc44ab47",
   "metadata": {
    "execution": {
     "iopub.execute_input": "2023-02-08T07:56:16.632136Z",
     "iopub.status.busy": "2023-02-08T07:56:16.631363Z",
     "iopub.status.idle": "2023-02-08T07:56:16.997509Z",
     "shell.execute_reply": "2023-02-08T07:56:16.996115Z"
    },
    "papermill": {
     "duration": 0.377228,
     "end_time": "2023-02-08T07:56:17.002322",
     "exception": false,
     "start_time": "2023-02-08T07:56:16.625094",
     "status": "completed"
    },
    "tags": []
   },
   "outputs": [
    {
     "name": "stdout",
     "output_type": "stream",
     "text": [
      "{'0': {'f1-score': 0.92,\n",
      "       'precision': 0.9435897435897436,\n",
      "       'recall': 0.8975609756097561,\n",
      "       'support': 205},\n",
      " '1': {'f1-score': 0.6351084812623274,\n",
      "       'precision': 0.679324894514768,\n",
      "       'recall': 0.5962962962962963,\n",
      "       'support': 270},\n",
      " '2': {'f1-score': 0.6376021798365122,\n",
      "       'precision': 0.6062176165803109,\n",
      "       'recall': 0.6724137931034483,\n",
      "       'support': 174},\n",
      " '3': {'f1-score': 0.8,\n",
      "       'precision': 0.8854961832061069,\n",
      "       'recall': 0.7295597484276729,\n",
      "       'support': 159},\n",
      " '4': {'f1-score': 0.8607594936708861,\n",
      "       'precision': 0.7756653992395437,\n",
      "       'recall': 0.966824644549763,\n",
      "       'support': 211},\n",
      " 'accuracy': 0.7674190382728164,\n",
      " 'macro avg': {'f1-score': 0.7706940309539452,\n",
      "               'precision': 0.7780587674260946,\n",
      "               'recall': 0.7725310915973873,\n",
      "               'support': 1019},\n",
      " 'weighted avg': {'f1-score': 0.7653015921461614,\n",
      "                  'precision': 0.772124412766608,\n",
      "                  'recall': 0.7674190382728164,\n",
      "                  'support': 1019}}\n",
      "array([[184,  19,   1,   0,   1],\n",
      "       [  7, 161,  73,  14,  15],\n",
      "       [  1,  13, 117,   0,  43],\n",
      "       [  1,  42,   0, 116,   0],\n",
      "       [  2,   2,   2,   1, 204]])\n"
     ]
    },
    {
     "data": {
      "image/png": "[encoded data removed]",
      "text/plain": [
       "<Figure size 432x288 with 1 Axes>"
      ]
     },
     "metadata": {
      "needs_background": "light"
     },
     "output_type": "display_data"
    }
   ],
   "source": [
    "DEMO_MODEL_PATH = '/kaggle/input/ds-official-models-500/model_max_weighted_f1.pth'\n",
    "max_weighted_f1_index = post_train_info['max_weighted_f1_index']\n",
    "\n",
    "with open(f'/kaggle/input/ds-official-models-500/log_{max_weighted_f1_index}.pkl', 'rb') as f:\n",
    "    log = pkl.load(f)\n",
    "    confusion_matrix = log['confusion_matrix']\n",
    "    pprint.pprint(log['classification_report'])\n",
    "    pprint.pprint(confusion_matrix)\n",
    "    \n",
    "    fig, ax = plt.subplots()\n",
    "    plt.imshow(confusion_matrix, cmap='Wistia')\n",
    "    \n",
    "    ax.set_xticks(range(5), labels=label_list)\n",
    "    ax.set_yticks(range(5), labels=label_list)\n",
    "    ax.set_xlabel('Predicted label')\n",
    "    ax.set_ylabel('True label')\n",
    "    \n",
    "    for i in range(5):\n",
    "        for j in range(5):\n",
    "            text = ax.text(j, i, confusion_matrix[i, j],\n",
    "                          ha=\"center\", va=\"center\", color=\"black\")\n",
    "    \n",
    "    plt.savefig('conf matrix of max weighted f1 model.png', dpi=200)"
   ]
  },
  {
   "cell_type": "code",
   "execution_count": 11,
   "id": "043b5207",
   "metadata": {
    "execution": {
     "iopub.execute_input": "2023-02-08T07:56:17.029930Z",
     "iopub.status.busy": "2023-02-08T07:56:17.029569Z",
     "iopub.status.idle": "2023-02-08T07:56:59.010675Z",
     "shell.execute_reply": "2023-02-08T07:56:59.009630Z"
    },
    "papermill": {
     "duration": 41.994525,
     "end_time": "2023-02-08T07:56:59.013117",
     "exception": false,
     "start_time": "2023-02-08T07:56:17.018592",
     "status": "completed"
    },
    "tags": []
   },
   "outputs": [
    {
     "name": "stderr",
     "output_type": "stream",
     "text": [
      "Downloading: \"https://download.pytorch.org/models/text/xlmr.base.encoder.pt\" to /root/.cache/torch/hub/checkpoints/xlmr.base.encoder.pt\n"
     ]
    },
    {
     "data": {
      "application/vnd.jupyter.widget-view+json": {
       "model_id": "808e097ad8ec43b19c07c84d04c80740",
       "version_major": 2,
       "version_minor": 0
      },
      "text/plain": [
       "  0%|          | 0.00/1.03G [00:00<?, ?B/s]"
      ]
     },
     "metadata": {},
     "output_type": "display_data"
    }
   ],
   "source": [
    "num_classes = 5\n",
    "input_dim = 768\n",
    "\n",
    "classifier_head = RobertaClassificationHead(num_classes=num_classes, input_dim=input_dim)\n",
    "model = XLMR_BASE_ENCODER.get_model(head=classifier_head)"
   ]
  },
  {
   "cell_type": "code",
   "execution_count": 12,
   "id": "8f08eabe",
   "metadata": {
    "execution": {
     "iopub.execute_input": "2023-02-08T07:56:59.027158Z",
     "iopub.status.busy": "2023-02-08T07:56:59.026867Z",
     "iopub.status.idle": "2023-02-08T07:56:59.101734Z",
     "shell.execute_reply": "2023-02-08T07:56:59.100772Z"
    },
    "papermill": {
     "duration": 0.084341,
     "end_time": "2023-02-08T07:56:59.103856",
     "exception": false,
     "start_time": "2023-02-08T07:56:59.019515",
     "status": "completed"
    },
    "tags": []
   },
   "outputs": [
    {
     "data": {
      "text/plain": [
       "device(type='cuda')"
      ]
     },
     "execution_count": 12,
     "metadata": {},
     "output_type": "execute_result"
    }
   ],
   "source": [
    "DEVICE = torch.device(\"cuda\") if torch.cuda.is_available() else torch.device(\"cpu\")\n",
    "DEVICE"
   ]
  },
  {
   "cell_type": "code",
   "execution_count": 13,
   "id": "1267c434",
   "metadata": {
    "execution": {
     "iopub.execute_input": "2023-02-08T07:56:59.118143Z",
     "iopub.status.busy": "2023-02-08T07:56:59.117868Z",
     "iopub.status.idle": "2023-02-08T07:57:11.485681Z",
     "shell.execute_reply": "2023-02-08T07:57:11.484528Z"
    },
    "papermill": {
     "duration": 12.377428,
     "end_time": "2023-02-08T07:57:11.488455",
     "exception": false,
     "start_time": "2023-02-08T07:56:59.111027",
     "status": "completed"
    },
    "tags": []
   },
   "outputs": [],
   "source": [
    "model.load_state_dict(\n",
    "    torch.load(DEMO_MODEL_PATH)\n",
    ")\n",
    "model.to(DEVICE)\n",
    "\n",
    "pass"
   ]
  },
  {
   "cell_type": "code",
   "execution_count": 14,
   "id": "b9be0489",
   "metadata": {
    "execution": {
     "iopub.execute_input": "2023-02-08T07:57:11.502679Z",
     "iopub.status.busy": "2023-02-08T07:57:11.502383Z",
     "iopub.status.idle": "2023-02-08T07:57:18.076538Z",
     "shell.execute_reply": "2023-02-08T07:57:18.075333Z"
    },
    "papermill": {
     "duration": 6.583886,
     "end_time": "2023-02-08T07:57:18.079223",
     "exception": false,
     "start_time": "2023-02-08T07:57:11.495337",
     "status": "completed"
    },
    "tags": []
   },
   "outputs": [
    {
     "name": "stderr",
     "output_type": "stream",
     "text": [
      "100%|██████████| 5.07M/5.07M [00:01<00:00, 3.05MB/s]\n",
      "Downloading: \"https://download.pytorch.org/models/text/xlmr.vocab.pt\" to /root/.cache/torch/hub/checkpoints/xlmr.vocab.pt\n"
     ]
    },
    {
     "data": {
      "application/vnd.jupyter.widget-view+json": {
       "model_id": "680d5ed3bd7b4fc88f83b08426672c47",
       "version_major": 2,
       "version_minor": 0
      },
      "text/plain": [
       "  0%|          | 0.00/4.85M [00:00<?, ?B/s]"
      ]
     },
     "metadata": {},
     "output_type": "display_data"
    }
   ],
   "source": [
    "padding_idx = 1\n",
    "bos_idx = 0\n",
    "eos_idx = 2\n",
    "max_seq_len = 256\n",
    "\n",
    "text_transform = torchtext.models.XLMR_LARGE_ENCODER.transform()"
   ]
  },
  {
   "cell_type": "code",
   "execution_count": 15,
   "id": "7e314e4b",
   "metadata": {
    "execution": {
     "iopub.execute_input": "2023-02-08T07:57:18.095831Z",
     "iopub.status.busy": "2023-02-08T07:57:18.095493Z",
     "iopub.status.idle": "2023-02-08T07:57:19.106413Z",
     "shell.execute_reply": "2023-02-08T07:57:19.105198Z"
    },
    "papermill": {
     "duration": 1.021566,
     "end_time": "2023-02-08T07:57:19.108672",
     "exception": false,
     "start_time": "2023-02-08T07:57:18.087106",
     "status": "completed"
    },
    "tags": []
   },
   "outputs": [
    {
     "data": {
      "text/plain": [
       "'politics'"
      ]
     },
     "execution_count": 15,
     "metadata": {},
     "output_type": "execute_result"
    }
   ],
   "source": [
    "inp = \"Jordan’s remarks come in the wake of the new GOP majority in the House\"\n",
    "transformed_text = text_transform(inp)\n",
    "out = model(torch.tensor([transformed_text]).to(DEVICE))\n",
    "label_map[torch.argmax(out).item()]"
   ]
  }
 ],
 "metadata": {
  "kernelspec": {
   "display_name": "Python 3",
   "language": "python",
   "name": "python3"
  },
  "language_info": {
   "codemirror_mode": {
    "name": "ipython",
    "version": 3
   },
   "file_extension": ".py",
   "mimetype": "text/x-python",
   "name": "python",
   "nbconvert_exporter": "python",
   "pygments_lexer": "ipython3",
   "version": "3.7.12"
  },
  "papermill": {
   "default_parameters": {},
   "duration": 77.718388,
   "end_time": "2023-02-08T07:57:20.339390",
   "environment_variables": {},
   "exception": null,
   "input_path": "__notebook__.ipynb",
   "output_path": "__notebook__.ipynb",
   "parameters": {},
   "start_time": "2023-02-08T07:56:02.621002",
   "version": "2.3.4"
  },
  "widgets": {
   "application/vnd.jupyter.widget-state+json": {
    "state": {
     "0a91a13f6aa3421cac36298d3f50d1a3": {
      "model_module": "@jupyter-widgets/base",
      "model_module_version": "1.2.0",
      "model_name": "LayoutModel",
      "state": {
       "_model_module": "@jupyter-widgets/base",
       "_model_module_version": "1.2.0",
       "_model_name": "LayoutModel",
       "_view_count": null,
       "_view_module": "@jupyter-widgets/base",
       "_view_module_version": "1.2.0",
       "_view_name": "LayoutView",
       "align_content": null,
       "align_items": null,
       "align_self": null,
       "border": null,
       "bottom": null,
       "display": null,
       "flex": null,
       "flex_flow": null,
       "grid_area": null,
       "grid_auto_columns": null,
       "grid_auto_flow": null,
       "grid_auto_rows": null,
       "grid_column": null,
       "grid_gap": null,
       "grid_row": null,
       "grid_template_areas": null,
       "grid_template_columns": null,
       "grid_template_rows": null,
       "height": null,
       "justify_content": null,
       "justify_items": null,
       "left": null,
       "margin": null,
       "max_height": null,
       "max_width": null,
       "min_height": null,
       "min_width": null,
       "object_fit": null,
       "object_position": null,
       "order": null,
       "overflow": null,
       "overflow_x": null,
       "overflow_y": null,
       "padding": null,
       "right": null,
       "top": null,
       "visibility": null,
       "width": null
      }
     },
     "10c958b4f4c84a67829ced6f07a07d2d": {
      "model_module": "@jupyter-widgets/controls",
      "model_module_version": "1.5.0",
      "model_name": "DescriptionStyleModel",
      "state": {
       "_model_module": "@jupyter-widgets/controls",
       "_model_module_version": "1.5.0",
       "_model_name": "DescriptionStyleModel",
       "_view_count": null,
       "_view_module": "@jupyter-widgets/base",
       "_view_module_version": "1.2.0",
       "_view_name": "StyleView",
       "description_width": ""
      }
     },
     "213979e97781492e948fd535c52476db": {
      "model_module": "@jupyter-widgets/controls",
      "model_module_version": "1.5.0",
      "model_name": "ProgressStyleModel",
      "state": {
       "_model_module": "@jupyter-widgets/controls",
       "_model_module_version": "1.5.0",
       "_model_name": "ProgressStyleModel",
       "_view_count": null,
       "_view_module": "@jupyter-widgets/base",
       "_view_module_version": "1.2.0",
       "_view_name": "StyleView",
       "bar_color": null,
       "description_width": ""
      }
     },
     "3280d6bea7ca4c89866aaf96b97ed3f0": {
      "model_module": "@jupyter-widgets/controls",
      "model_module_version": "1.5.0",
      "model_name": "HTMLModel",
      "state": {
       "_dom_classes": [],
       "_model_module": "@jupyter-widgets/controls",
       "_model_module_version": "1.5.0",
       "_model_name": "HTMLModel",
       "_view_count": null,
       "_view_module": "@jupyter-widgets/controls",
       "_view_module_version": "1.5.0",
       "_view_name": "HTMLView",
       "description": "",
       "description_tooltip": null,
       "layout": "IPY_MODEL_0a91a13f6aa3421cac36298d3f50d1a3",
       "placeholder": "​",
       "style": "IPY_MODEL_10c958b4f4c84a67829ced6f07a07d2d",
       "value": "100%"
      }
     },
     "36f94d4de2464db1a43318fda73e621b": {
      "model_module": "@jupyter-widgets/controls",
      "model_module_version": "1.5.0",
      "model_name": "FloatProgressModel",
      "state": {
       "_dom_classes": [],
       "_model_module": "@jupyter-widgets/controls",
       "_model_module_version": "1.5.0",
       "_model_name": "FloatProgressModel",
       "_view_count": null,
       "_view_module": "@jupyter-widgets/controls",
       "_view_module_version": "1.5.0",
       "_view_name": "ProgressView",
       "bar_style": "success",
       "description": "",
       "description_tooltip": null,
       "layout": "IPY_MODEL_39e6d22f568a45a997fbc66809fe989c",
       "max": 1109857305.0,
       "min": 0.0,
       "orientation": "horizontal",
       "style": "IPY_MODEL_8a09106efa1c42bfb91e9e31cdcf659e",
       "value": 1109857305.0
      }
     },
     "39e6d22f568a45a997fbc66809fe989c": {
      "model_module": "@jupyter-widgets/base",
      "model_module_version": "1.2.0",
      "model_name": "LayoutModel",
      "state": {
       "_model_module": "@jupyter-widgets/base",
       "_model_module_version": "1.2.0",
       "_model_name": "LayoutModel",
       "_view_count": null,
       "_view_module": "@jupyter-widgets/base",
       "_view_module_version": "1.2.0",
       "_view_name": "LayoutView",
       "align_content": null,
       "align_items": null,
       "align_self": null,
       "border": null,
       "bottom": null,
       "display": null,
       "flex": null,
       "flex_flow": null,
       "grid_area": null,
       "grid_auto_columns": null,
       "grid_auto_flow": null,
       "grid_auto_rows": null,
       "grid_column": null,
       "grid_gap": null,
       "grid_row": null,
       "grid_template_areas": null,
       "grid_template_columns": null,
       "grid_template_rows": null,
       "height": null,
       "justify_content": null,
       "justify_items": null,
       "left": null,
       "margin": null,
       "max_height": null,
       "max_width": null,
       "min_height": null,
       "min_width": null,
       "object_fit": null,
       "object_position": null,
       "order": null,
       "overflow": null,
       "overflow_x": null,
       "overflow_y": null,
       "padding": null,
       "right": null,
       "top": null,
       "visibility": null,
       "width": null
      }
     },
     "680ad1427778486492bb71216e7529e9": {
      "model_module": "@jupyter-widgets/base",
      "model_module_version": "1.2.0",
      "model_name": "LayoutModel",
      "state": {
       "_model_module": "@jupyter-widgets/base",
       "_model_module_version": "1.2.0",
       "_model_name": "LayoutModel",
       "_view_count": null,
       "_view_module": "@jupyter-widgets/base",
       "_view_module_version": "1.2.0",
       "_view_name": "LayoutView",
       "align_content": null,
       "align_items": null,
       "align_self": null,
       "border": null,
       "bottom": null,
       "display": null,
       "flex": null,
       "flex_flow": null,
       "grid_area": null,
       "grid_auto_columns": null,
       "grid_auto_flow": null,
       "grid_auto_rows": null,
       "grid_column": null,
       "grid_gap": null,
       "grid_row": null,
       "grid_template_areas": null,
       "grid_template_columns": null,
       "grid_template_rows": null,
       "height": null,
       "justify_content": null,
       "justify_items": null,
       "left": null,
       "margin": null,
       "max_height": null,
       "max_width": null,
       "min_height": null,
       "min_width": null,
       "object_fit": null,
       "object_position": null,
       "order": null,
       "overflow": null,
       "overflow_x": null,
       "overflow_y": null,
       "padding": null,
       "right": null,
       "top": null,
       "visibility": null,
       "width": null
      }
     },
     "680d5ed3bd7b4fc88f83b08426672c47": {
      "model_module": "@jupyter-widgets/controls",
      "model_module_version": "1.5.0",
      "model_name": "HBoxModel",
      "state": {
       "_dom_classes": [],
       "_model_module": "@jupyter-widgets/controls",
       "_model_module_version": "1.5.0",
       "_model_name": "HBoxModel",
       "_view_count": null,
       "_view_module": "@jupyter-widgets/controls",
       "_view_module_version": "1.5.0",
       "_view_name": "HBoxView",
       "box_style": "",
       "children": [
        "IPY_MODEL_93fb241970864f5b85e3da321bb66313",
        "IPY_MODEL_e6e6e772eae946c78cf1b9ffe010d921",
        "IPY_MODEL_6989c85c2e0d40f09805c1be22adc6e8"
       ],
       "layout": "IPY_MODEL_7df2e8684b9e41d3b7d1c37e963a6040"
      }
     },
     "6989c85c2e0d40f09805c1be22adc6e8": {
      "model_module": "@jupyter-widgets/controls",
      "model_module_version": "1.5.0",
      "model_name": "HTMLModel",
      "state": {
       "_dom_classes": [],
       "_model_module": "@jupyter-widgets/controls",
       "_model_module_version": "1.5.0",
       "_model_name": "HTMLModel",
       "_view_count": null,
       "_view_module": "@jupyter-widgets/controls",
       "_view_module_version": "1.5.0",
       "_view_name": "HTMLView",
       "description": "",
       "description_tooltip": null,
       "layout": "IPY_MODEL_e12ed3af8adc41a88c725866000aefbb",
       "placeholder": "​",
       "style": "IPY_MODEL_a7b76eb59a8e418d972e91d808290fa6",
       "value": " 4.85M/4.85M [00:01&lt;00:00, 4.06MB/s]"
      }
     },
     "7df2e8684b9e41d3b7d1c37e963a6040": {
      "model_module": "@jupyter-widgets/base",
      "model_module_version": "1.2.0",
      "model_name": "LayoutModel",
      "state": {
       "_model_module": "@jupyter-widgets/base",
       "_model_module_version": "1.2.0",
       "_model_name": "LayoutModel",
       "_view_count": null,
       "_view_module": "@jupyter-widgets/base",
       "_view_module_version": "1.2.0",
       "_view_name": "LayoutView",
       "align_content": null,
       "align_items": null,
       "align_self": null,
       "border": null,
       "bottom": null,
       "display": null,
       "flex": null,
       "flex_flow": null,
       "grid_area": null,
       "grid_auto_columns": null,
       "grid_auto_flow": null,
       "grid_auto_rows": null,
       "grid_column": null,
       "grid_gap": null,
       "grid_row": null,
       "grid_template_areas": null,
       "grid_template_columns": null,
       "grid_template_rows": null,
       "height": null,
       "justify_content": null,
       "justify_items": null,
       "left": null,
       "margin": null,
       "max_height": null,
       "max_width": null,
       "min_height": null,
       "min_width": null,
       "object_fit": null,
       "object_position": null,
       "order": null,
       "overflow": null,
       "overflow_x": null,
       "overflow_y": null,
       "padding": null,
       "right": null,
       "top": null,
       "visibility": null,
       "width": null
      }
     },
     "808e097ad8ec43b19c07c84d04c80740": {
      "model_module": "@jupyter-widgets/controls",
      "model_module_version": "1.5.0",
      "model_name": "HBoxModel",
      "state": {
       "_dom_classes": [],
       "_model_module": "@jupyter-widgets/controls",
       "_model_module_version": "1.5.0",
       "_model_name": "HBoxModel",
       "_view_count": null,
       "_view_module": "@jupyter-widgets/controls",
       "_view_module_version": "1.5.0",
       "_view_name": "HBoxView",
       "box_style": "",
       "children": [
        "IPY_MODEL_3280d6bea7ca4c89866aaf96b97ed3f0",
        "IPY_MODEL_36f94d4de2464db1a43318fda73e621b",
        "IPY_MODEL_d438c841b7cd45ae928f329ccc80134d"
       ],
       "layout": "IPY_MODEL_680ad1427778486492bb71216e7529e9"
      }
     },
     "8a09106efa1c42bfb91e9e31cdcf659e": {
      "model_module": "@jupyter-widgets/controls",
      "model_module_version": "1.5.0",
      "model_name": "ProgressStyleModel",
      "state": {
       "_model_module": "@jupyter-widgets/controls",
       "_model_module_version": "1.5.0",
       "_model_name": "ProgressStyleModel",
       "_view_count": null,
       "_view_module": "@jupyter-widgets/base",
       "_view_module_version": "1.2.0",
       "_view_name": "StyleView",
       "bar_color": null,
       "description_width": ""
      }
     },
     "93fb241970864f5b85e3da321bb66313": {
      "model_module": "@jupyter-widgets/controls",
      "model_module_version": "1.5.0",
      "model_name": "HTMLModel",
      "state": {
       "_dom_classes": [],
       "_model_module": "@jupyter-widgets/controls",
       "_model_module_version": "1.5.0",
       "_model_name": "HTMLModel",
       "_view_count": null,
       "_view_module": "@jupyter-widgets/controls",
       "_view_module_version": "1.5.0",
       "_view_name": "HTMLView",
       "description": "",
       "description_tooltip": null,
       "layout": "IPY_MODEL_e0df2afc3e6c4d229861e26092da9aba",
       "placeholder": "​",
       "style": "IPY_MODEL_e8164f5fde464ecdaa1276327051f6f9",
       "value": "100%"
      }
     },
     "a11a1d6af04f4bed9ecd57e6aaabe663": {
      "model_module": "@jupyter-widgets/controls",
      "model_module_version": "1.5.0",
      "model_name": "DescriptionStyleModel",
      "state": {
       "_model_module": "@jupyter-widgets/controls",
       "_model_module_version": "1.5.0",
       "_model_name": "DescriptionStyleModel",
       "_view_count": null,
       "_view_module": "@jupyter-widgets/base",
       "_view_module_version": "1.2.0",
       "_view_name": "StyleView",
       "description_width": ""
      }
     },
     "a4ed01976142457a90bdbcd3b71cf0fa": {
      "model_module": "@jupyter-widgets/base",
      "model_module_version": "1.2.0",
      "model_name": "LayoutModel",
      "state": {
       "_model_module": "@jupyter-widgets/base",
       "_model_module_version": "1.2.0",
       "_model_name": "LayoutModel",
       "_view_count": null,
       "_view_module": "@jupyter-widgets/base",
       "_view_module_version": "1.2.0",
       "_view_name": "LayoutView",
       "align_content": null,
       "align_items": null,
       "align_self": null,
       "border": null,
       "bottom": null,
       "display": null,
       "flex": null,
       "flex_flow": null,
       "grid_area": null,
       "grid_auto_columns": null,
       "grid_auto_flow": null,
       "grid_auto_rows": null,
       "grid_column": null,
       "grid_gap": null,
       "grid_row": null,
       "grid_template_areas": null,
       "grid_template_columns": null,
       "grid_template_rows": null,
       "height": null,
       "justify_content": null,
       "justify_items": null,
       "left": null,
       "margin": null,
       "max_height": null,
       "max_width": null,
       "min_height": null,
       "min_width": null,
       "object_fit": null,
       "object_position": null,
       "order": null,
       "overflow": null,
       "overflow_x": null,
       "overflow_y": null,
       "padding": null,
       "right": null,
       "top": null,
       "visibility": null,
       "width": null
      }
     },
     "a5be4fb649fb4668bbbef0d3e832b29e": {
      "model_module": "@jupyter-widgets/base",
      "model_module_version": "1.2.0",
      "model_name": "LayoutModel",
      "state": {
       "_model_module": "@jupyter-widgets/base",
       "_model_module_version": "1.2.0",
       "_model_name": "LayoutModel",
       "_view_count": null,
       "_view_module": "@jupyter-widgets/base",
       "_view_module_version": "1.2.0",
       "_view_name": "LayoutView",
       "align_content": null,
       "align_items": null,
       "align_self": null,
       "border": null,
       "bottom": null,
       "display": null,
       "flex": null,
       "flex_flow": null,
       "grid_area": null,
       "grid_auto_columns": null,
       "grid_auto_flow": null,
       "grid_auto_rows": null,
       "grid_column": null,
       "grid_gap": null,
       "grid_row": null,
       "grid_template_areas": null,
       "grid_template_columns": null,
       "grid_template_rows": null,
       "height": null,
       "justify_content": null,
       "justify_items": null,
       "left": null,
       "margin": null,
       "max_height": null,
       "max_width": null,
       "min_height": null,
       "min_width": null,
       "object_fit": null,
       "object_position": null,
       "order": null,
       "overflow": null,
       "overflow_x": null,
       "overflow_y": null,
       "padding": null,
       "right": null,
       "top": null,
       "visibility": null,
       "width": null
      }
     },
     "a7b76eb59a8e418d972e91d808290fa6": {
      "model_module": "@jupyter-widgets/controls",
      "model_module_version": "1.5.0",
      "model_name": "DescriptionStyleModel",
      "state": {
       "_model_module": "@jupyter-widgets/controls",
       "_model_module_version": "1.5.0",
       "_model_name": "DescriptionStyleModel",
       "_view_count": null,
       "_view_module": "@jupyter-widgets/base",
       "_view_module_version": "1.2.0",
       "_view_name": "StyleView",
       "description_width": ""
      }
     },
     "d438c841b7cd45ae928f329ccc80134d": {
      "model_module": "@jupyter-widgets/controls",
      "model_module_version": "1.5.0",
      "model_name": "HTMLModel",
      "state": {
       "_dom_classes": [],
       "_model_module": "@jupyter-widgets/controls",
       "_model_module_version": "1.5.0",
       "_model_name": "HTMLModel",
       "_view_count": null,
       "_view_module": "@jupyter-widgets/controls",
       "_view_module_version": "1.5.0",
       "_view_name": "HTMLView",
       "description": "",
       "description_tooltip": null,
       "layout": "IPY_MODEL_a5be4fb649fb4668bbbef0d3e832b29e",
       "placeholder": "​",
       "style": "IPY_MODEL_a11a1d6af04f4bed9ecd57e6aaabe663",
       "value": " 1.03G/1.03G [00:37&lt;00:00, 32.8MB/s]"
      }
     },
     "e0df2afc3e6c4d229861e26092da9aba": {
      "model_module": "@jupyter-widgets/base",
      "model_module_version": "1.2.0",
      "model_name": "LayoutModel",
      "state": {
       "_model_module": "@jupyter-widgets/base",
       "_model_module_version": "1.2.0",
       "_model_name": "LayoutModel",
       "_view_count": null,
       "_view_module": "@jupyter-widgets/base",
       "_view_module_version": "1.2.0",
       "_view_name": "LayoutView",
       "align_content": null,
       "align_items": null,
       "align_self": null,
       "border": null,
       "bottom": null,
       "display": null,
       "flex": null,
       "flex_flow": null,
       "grid_area": null,
       "grid_auto_columns": null,
       "grid_auto_flow": null,
       "grid_auto_rows": null,
       "grid_column": null,
       "grid_gap": null,
       "grid_row": null,
       "grid_template_areas": null,
       "grid_template_columns": null,
       "grid_template_rows": null,
       "height": null,
       "justify_content": null,
       "justify_items": null,
       "left": null,
       "margin": null,
       "max_height": null,
       "max_width": null,
       "min_height": null,
       "min_width": null,
       "object_fit": null,
       "object_position": null,
       "order": null,
       "overflow": null,
       "overflow_x": null,
       "overflow_y": null,
       "padding": null,
       "right": null,
       "top": null,
       "visibility": null,
       "width": null
      }
     },
     "e12ed3af8adc41a88c725866000aefbb": {
      "model_module": "@jupyter-widgets/base",
      "model_module_version": "1.2.0",
      "model_name": "LayoutModel",
      "state": {
       "_model_module": "@jupyter-widgets/base",
       "_model_module_version": "1.2.0",
       "_model_name": "LayoutModel",
       "_view_count": null,
       "_view_module": "@jupyter-widgets/base",
       "_view_module_version": "1.2.0",
       "_view_name": "LayoutView",
       "align_content": null,
       "align_items": null,
       "align_self": null,
       "border": null,
       "bottom": null,
       "display": null,
       "flex": null,
       "flex_flow": null,
       "grid_area": null,
       "grid_auto_columns": null,
       "grid_auto_flow": null,
       "grid_auto_rows": null,
       "grid_column": null,
       "grid_gap": null,
       "grid_row": null,
       "grid_template_areas": null,
       "grid_template_columns": null,
       "grid_template_rows": null,
       "height": null,
       "justify_content": null,
       "justify_items": null,
       "left": null,
       "margin": null,
       "max_height": null,
       "max_width": null,
       "min_height": null,
       "min_width": null,
       "object_fit": null,
       "object_position": null,
       "order": null,
       "overflow": null,
       "overflow_x": null,
       "overflow_y": null,
       "padding": null,
       "right": null,
       "top": null,
       "visibility": null,
       "width": null
      }
     },
     "e6e6e772eae946c78cf1b9ffe010d921": {
      "model_module": "@jupyter-widgets/controls",
      "model_module_version": "1.5.0",
      "model_name": "FloatProgressModel",
      "state": {
       "_dom_classes": [],
       "_model_module": "@jupyter-widgets/controls",
       "_model_module_version": "1.5.0",
       "_model_name": "FloatProgressModel",
       "_view_count": null,
       "_view_module": "@jupyter-widgets/controls",
       "_view_module_version": "1.5.0",
       "_view_name": "ProgressView",
       "bar_style": "success",
       "description": "",
       "description_tooltip": null,
       "layout": "IPY_MODEL_a4ed01976142457a90bdbcd3b71cf0fa",
       "max": 5082095.0,
       "min": 0.0,
       "orientation": "horizontal",
       "style": "IPY_MODEL_213979e97781492e948fd535c52476db",
       "value": 5082095.0
      }
     },
     "e8164f5fde464ecdaa1276327051f6f9": {
      "model_module": "@jupyter-widgets/controls",
      "model_module_version": "1.5.0",
      "model_name": "DescriptionStyleModel",
      "state": {
       "_model_module": "@jupyter-widgets/controls",
       "_model_module_version": "1.5.0",
       "_model_name": "DescriptionStyleModel",
       "_view_count": null,
       "_view_module": "@jupyter-widgets/base",
       "_view_module_version": "1.2.0",
       "_view_name": "StyleView",
       "description_width": ""
      }
     }
    },
    "version_major": 2,
    "version_minor": 0
   }
  }
 },
 "nbformat": 4,
 "nbformat_minor": 5
}
